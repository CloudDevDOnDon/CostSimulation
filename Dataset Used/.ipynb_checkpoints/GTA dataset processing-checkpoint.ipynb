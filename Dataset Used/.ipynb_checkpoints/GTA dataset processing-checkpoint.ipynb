{
 "cells": [
  {
   "cell_type": "code",
   "execution_count": 17,
   "id": "1d9e9924",
   "metadata": {},
   "outputs": [],
   "source": [
    "with open('dataset_GTA.txt','w') as gta_data:\n",
    "    gta_data.write('id action timestamp\\n' )\n",
    "    with open('GTA.txt','r') as gta_line:\n",
    "        container = []\n",
    "        for lines in gta_line:\n",
    "            line = lines.strip('\\n')\n",
    "            if 'matchId' in line:\n",
    "                container.append(line.strip('\\n').strip('matchId '))\n",
    "            elif 'timeStart' in line:\n",
    "                container.append(int(line.strip('\\n').strip('timeStart ')))\n",
    "            elif 'duration' in line:\n",
    "                duration = int(line.strip('\\n').strip('duration ')\n",
    "                if duration !== 0:     \n",
    "                    container.append(duration)\n",
    "                    gta_data.write(f\"{container[0]} start {container[1]}\\n\")\n",
    "                    gta_data.write(f\"{container[0]} end {container[1]+container[2]}\\n\")\n",
    "                    container = []\n",
    "                "
   ]
  },
  {
   "cell_type": "code",
   "execution_count": 30,
   "id": "b328f20d",
   "metadata": {},
   "outputs": [],
   "source": [
    "import pandas as pd\n",
    "import numpy as np\n",
    "\n",
    "data = pd.read_csv('dataset_GTA.txt', sep=\" \", dtype ={'timestamp': np.int64})\n",
    "df = data.drop(data[data.timestamp == 0].index)\n",
    "df.sort_values('timestamp').to_csv('dataset_GTA_sorted.txt', sep=\" \", index = False)"
   ]
  },
  {
   "cell_type": "code",
   "execution_count": null,
   "id": "56b1f20e",
   "metadata": {},
   "outputs": [],
   "source": []
  }
 ],
 "metadata": {
  "kernelspec": {
   "display_name": "Python 3",
   "language": "python",
   "name": "python3"
  },
  "language_info": {
   "codemirror_mode": {
    "name": "ipython",
    "version": 3
   },
   "file_extension": ".py",
   "mimetype": "text/x-python",
   "name": "python",
   "nbconvert_exporter": "python",
   "pygments_lexer": "ipython3",
   "version": "3.8.8"
  }
 },
 "nbformat": 4,
 "nbformat_minor": 5
}
