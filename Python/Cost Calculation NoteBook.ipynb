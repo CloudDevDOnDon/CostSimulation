{
 "cells": [
  {
   "cell_type": "code",
   "execution_count": 16,
   "id": "fb104fc5",
   "metadata": {},
   "outputs": [],
   "source": [
    "import pandas as pd"
   ]
  },
  {
   "cell_type": "code",
   "execution_count": 21,
   "id": "f2f6a5cd",
   "metadata": {},
   "outputs": [],
   "source": [
    "#Reading the excel file\n",
    "xls = pd.ExcelFile('Cost Calculation.xlsx')"
   ]
  },
  {
   "cell_type": "code",
   "execution_count": 22,
   "id": "0ed215a8",
   "metadata": {
    "scrolled": true
   },
   "outputs": [
    {
     "name": "stdout",
     "output_type": "stream",
     "text": [
      "                                Not Optimized  Optimized\n",
      "Instance Hours                          11671     9735.0\n",
      "Storage Volume                            512        NaN\n",
      "Percentage of Storage Used                0.9        NaN\n",
      "Number of snapshot                          7        NaN\n",
      "Data Transfer                          10.755        NaN\n",
      "Game Session                             3500        NaN\n",
      "Number of Request                         NIL     3833.0\n",
      "Average Time to execute request           NIL     3000.0\n"
     ]
    }
   ],
   "source": [
    "inVarSheet = pd.read_excel(xls, 'Input Variable', index_col= 0, skiprows=[0])\n",
    "print(inVarSheet)"
   ]
  },
  {
   "cell_type": "code",
   "execution_count": 23,
   "id": "756d020a",
   "metadata": {},
   "outputs": [
    {
     "name": "stdout",
     "output_type": "stream",
     "text": [
      "                                Rate\n",
      "Fixed Variable                      \n",
      "EC2 Instance Cost              0.506\n",
      "Amazon EBS Rates               0.096\n",
      "Amazon Snapshot Rates           0.05\n",
      "Data Transfer (In)              Free\n",
      "Data Transfer (Out)       0.12,0.085\n",
      "AWS Lambda request               0.2\n",
      "AWS Lambda compute time     0.000002\n"
     ]
    }
   ],
   "source": [
    "fixVarSheet = pd.read_excel(xls, 'Fixed Variable', index_col= 0)\n",
    "\n",
    "#Storing Rates as variables\n",
    "ec2Cost = fixVarSheet.loc[\"EC2 Instance Cost\",\"Rate\"]\n",
    "ebsRates = fixVarSheet.loc[\"Amazon EBS Rates\",\"Rate\"]\n",
    "snapshotRates = fixVarSheet.loc[\"Amazon Snapshot Rates\",\"Rate\"]\n",
    "dataTransferIn = fixVarSheet.loc[\"Data Transfer (In)\", \"Rate\"]\n",
    "dataTrasferOut = fixVarSheet.loc[\"Data Transfer (Out)\", \"Rate\"].split(',')\n",
    "lambdaRequestRates = fixVarSheet.loc[\"AWS Lambda request\", \"Rate\"]\n",
    "lambdaComputeRates = fixVarSheet.loc[\"AWS Lambda compute time \", \"Rate\"]\n",
    "\n",
    "print(fixVarSheet)"
   ]
  },
  {
   "cell_type": "code",
   "execution_count": 5,
   "id": "47277f09",
   "metadata": {},
   "outputs": [
    {
     "name": "stdout",
     "output_type": "stream",
     "text": [
      "0.506\n",
      "0.096\n",
      "0.05\n",
      "Free\n",
      "['0.12', '0.085']\n",
      "0.2\n",
      "2.1e-06\n"
     ]
    }
   ],
   "source": [
    "# print(ec2Cost)\n",
    "# print(ebsRates)\n",
    "# print(snapshotRates)\n",
    "# print(dataTransferIn)\n",
    "# print(dataTrasferOut)\n",
    "# print(lambdaRequestRates)\n",
    "# print(lambdaComputeRates)"
   ]
  },
  {
   "cell_type": "code",
   "execution_count": 6,
   "id": "98b00c73",
   "metadata": {},
   "outputs": [
    {
     "name": "stdout",
     "output_type": "stream",
     "text": [
      "13.335616438356164\n",
      "655.4722191780821\n",
      "785.8260164383562\n"
     ]
    }
   ],
   "source": [
    "# Calculating EC2 Cost\n",
    "## Variables\n",
    "optimizedInstanceHours = inVarSheet.loc[\"Instance Hours\",\"Optimized\"]\n",
    "nonOptimizedInstanceHours = inVarSheet.loc[\"Instance Hours\",\"Not Optimized\"]\n",
    "\n",
    "ebsVolumeSize = inVarSheet.loc[\"Storage Volume\",\"Not Optimized\"]\n",
    "\n",
    "##Calculation\n",
    "optimizedHoursCost = optimizedInstanceHours * ec2Cost  ###\n",
    "nonOptimizedHoursCost = nonOptimizedInstanceHours * ec2Cost  ###\n",
    "\n",
    "optimizedInstanceMonth = optimizedInstanceHours / 730\n",
    "nonOptimizedInstanceMonth = nonOptimizedInstanceHours / 730\n",
    "\n",
    "optimizedVolumeCost = optimizedInstanceMonth * ebsVolumeSize * ebsRates  ###\n",
    "nonOptimizedVolumeCost = nonOptimizedInstanceMonth *ebsVolumeSize * ebsRates  ###\n",
    "\n",
    "# print(optimizedInstanceMonth)\n",
    "# print(optimizedVolumeCost)\n",
    "# print(nonOptimizedVolumeCost)"
   ]
  },
  {
   "cell_type": "code",
   "execution_count": 25,
   "id": "829c9117",
   "metadata": {},
   "outputs": [],
   "source": [
    "#Calculating AMI Cost\n",
    "## Variables\n",
    "noOfSnpshot = inVarSheet.loc[\"Number of snapshot\",\"Not Optimized\"]\n",
    "averageSnpshotSize = ebsVolumeSize * inVarSheet.loc[\"Percentage of Storage Used\",\"Not Optimized\"]\n",
    "dataTransfer = inVarSheet.loc[\"Data Transfer\",\"Not Optimized\"]\n",
    "gameSession = inVarSheet.loc[\"Game Session\",\"Not Optimized\"]\n",
    "\n",
    "## Calculation\n",
    "snpShotCost = noOfSnpshot * averageSnpshotSize * snapshotRates\n",
    "\n",
    "totalDataTransfer = dataTransfer * gameSession ##Fixed variable \n",
    "dataTransferCost = 9999*float(dataTrasferOut[0]) + (totalDataTransfer - 9999) * float(dataTrasferOut[1]) ## need to add if statement\n"
   ]
  },
  {
   "cell_type": "code",
   "execution_count": 26,
   "id": "c531408e",
   "metadata": {},
   "outputs": [],
   "source": [
    "#Calculating Lambda $ Cloudwatch\n",
    "## Variable\n",
    "lambdaRequest = inVarSheet.loc[\"Number of Request\",\"Optimized\"]\n",
    "lambdaExecuteTime = inVarSheet.loc[\"Average Time to execute request\",\"Optimized\"]\n",
    "\n",
    "if lambdaRequest < 1000000:\n",
    "    lambdaRequestCost = lambdaRequestRates\n",
    "else:\n",
    "    lambdaRequestCost = lambdaRequest//1000000 * lambdaRequestRates\n",
    "\n",
    "lambdaExecuteCost = lambdaRequest * lambdaExecuteTime//1000 * lambdaComputeRates\n"
   ]
  },
  {
   "cell_type": "code",
   "execution_count": 28,
   "id": "ef5b8a16",
   "metadata": {},
   "outputs": [],
   "source": [
    "#Preparing the variable\n",
    "#https://stackoverflow.com/questions/58326392/how-to-create-excel-table-with-pandas-to-excel\n",
    "totalNonOptCost = nonOptimizedHoursCost + nonOptimizedVolumeCost + snpShotCost + dataTransferCost \n",
    "totalOptCost = optimizedHoursCost + optimizedVolumeCost + snpShotCost + dataTransferCost + lambdaRequestCost + lambdaExecuteCost\n",
    "\n",
    "row1 = f\"All Games split into AMI ({ebsVolumeSize}GB)\"\n",
    "row2 = f\"Service,Rate,Not Optimized,Optimized\"\n",
    "row3 = f\"Instances\"\n",
    "row4 = f\"AWS EC2 Instance (g4dn.xlarge),${ec2Cost},{nonOptimizedInstanceHours}hrs x ${ec2Cost} = ${nonOptimizedHoursCost},{optimizedInstanceHours}hrs x ${ec2Cost} = ${optimizedHoursCost}\"\n",
    "row5 = f\"Amazon EBS (Volume),${ebsRates},{nonOptimizedInstanceHours} / 730 = {round(nonOptimizedInstanceMonth,2)} instance months\\n{ebsVolumeSize}GB x {round(nonOptimizedInstanceMonth,2)} instance months x {ebsRates} = {round(nonOptimizedVolumeCost,2)},{optimizedInstanceHours} / 730 = {round(optimizedInstanceMonth,2)} instance months\\n{ebsVolumeSize}GB x {round(optimizedInstanceMonth,3)} instance months x {ebsRates} = {round(optimizedVolumeCost,2)}\"\n",
    "row6 = f\"AMI\"\n",
    "row7 = f\"Amazon EBS (Snapshot),{snapshotRates} per GB-month of data stored,{noOfSnpshot} Snapshot x {averageSnpshotSize} GB x ${snapshotRates} = ${snpShotCost}\"\n",
    "row8 = f\"Data Transfer (In),Free,$0\"\n",
    "row9 = f\"Data Transfer (Out),${dataTrasferOut[0]} per GB-month for next 9.999TB/month\\n${dataTrasferOut[1]}per GB for next 40TB/month,${round(dataTransferCost,2)}\"\n",
    "row10 = f\"Lambda & Cloudwatch\"\n",
    "row11 = f\"AWS Lambda request,${lambdaRequestRates} per 1M request,$0(Not Used),${lambdaRequestCost}(under 1M request)\"\n",
    "row12 = f\"AWS Lamdba compute time,${lambdaComputeRates} per 1000ms,$0(Not Used),${lambdaRequest} x {lambdaExecuteTime}ms x ${lambdaComputeRates} = ${round(lambdaExecuteCost,2)}\"\n",
    "row13 = f\"Amazon CloudWatch Events,Free,$0(Not Used),$0\"\n",
    "row14 = f\",Total,${round(totalNonOptCost,2)},${round(totalOptCost,2)}\"\n",
    "\n",
    "tableData = [row1.split(','),row2.split(','),row3.split(','),row4.split(','),row5.split(','),row6.split(','),row7.split(','),row8.split(','),row9.split(','),row10.split(','),row11.split(','),row12.split(','),row13.split(','),row14.split(',')]\n",
    "df = pd.DataFrame(tableData)\n",
    "df.to_csv('toBeLatex.csv')"
   ]
  },
  {
   "cell_type": "code",
   "execution_count": 9,
   "id": "59e9c61a",
   "metadata": {},
   "outputs": [],
   "source": []
  },
  {
   "cell_type": "code",
   "execution_count": 12,
   "id": "6992ad9e",
   "metadata": {},
   "outputs": [
    {
     "name": "stdout",
     "output_type": "stream",
     "text": [
      "['All Games split into AMI (512GB)', 'Service', 'Instances', 'AWS EC2 Instance (g4dn.xlarge)', 'Amazon EBS (Volume)', 'AMI', 'Amazon EBS (Snapshot)', 'Data Transfer (In)', 'Data Transfer (Out)', 'Lambda & Cloudwatch', 'AWS Lambda request', 'AWS Lamdba compute time', 'Amazon CloudWatch Events', 'Total']\n"
     ]
    }
   ],
   "source": [
    "# #Preparing the variable\n",
    "# #https://stackoverflow.com/questions/58326392/how-to-create-excel-table-with-pandas-to-excel\n",
    "# totalNonOptCost = nonOptimizedHoursCost + nonOptimizedVolumeCost + snpShotCost + dataTransferCost \n",
    "# totalOptCost = optimizedHoursCost + optimizedVolumeCost + snpShotCost + dataTransferCost + lambdaRequestCost + lambdaExecuteCost\n",
    "\n",
    "# column1 = f\"All Games split into AMI ({ebsVolumeSize}GB),Service,Instances,AWS EC2 Instance (g4dn.xlarge),Amazon EBS (Volume),AMI,Amazon EBS (Snapshot),Data Transfer (In),Data Transfer (Out),Lambda & Cloudwatch,AWS Lambda request,AWS Lamdba compute time,Amazon CloudWatch Events,Total\"\n",
    "# column2 = f\",Rate,,${ec2Cost},${ebsRates},${snapshotRates} per GB-month of data stored,Free,${dataTrasferOut[0]} per GB-month for next 9.999TB/month\\n${dataTrasferOut[1]}per GB for next 40TB/month,,${lambdaRequestRates} per 1M request,${lambdaComputeRates} per 1000ms,Free,\"\n",
    "# column3 = f\",Not Optimized,{nonOptimizedInstanceHours}hrs x ${ec2Cost} = ${nonOptimizedHoursCost},{nonOptimizedInstanceHours} / 730 = {round(nonOptimizedInstanceMonth,2)} instance months\\n{ebsVolumeSize}GB x {round(nonOptimizedInstanceMonth,2)} instance months x {ebsRates} = {round(nonOptimizedVolumeCost,2)},,{noOfSnpshot} Snapshot x {averageSnpshotSize} GB x ${snapshotRates} = ${snpShotCost},$0,${round(dataTransferCost,2)},,$0(Not Used),$0(Not Used),$0(Not Used),${round(totalNonOptCost,2)}\"\n",
    "# column4 = f\",Optimized,,{optimizedInstanceHours}hrs x ${ec2Cost} = ${optimizedHoursCost},{optimizedInstanceHours} / 730 = {round(optimizedInstanceMonth,2)} instance months\\n{ebsVolumeSize}GB x {round(optimizedInstanceMonth,3)} instance months x {ebsRates} = {round(optimizedVolumeCost,2)},,${lambdaRequestCost}(under 1M request),${lambdaRequest} x {lambdaExecuteTime}ms x ${lambdaComputeRates} = ${round(lambdaExecuteCost,2)},$0,${round(totalOptCost,2)}\"\n",
    "\n",
    "# pd.Data\n"
   ]
  },
  {
   "cell_type": "code",
   "execution_count": null,
   "id": "6b1edf16",
   "metadata": {},
   "outputs": [],
   "source": []
  }
 ],
 "metadata": {
  "kernelspec": {
   "display_name": "Python 3",
   "language": "python",
   "name": "python3"
  },
  "language_info": {
   "codemirror_mode": {
    "name": "ipython",
    "version": 3
   },
   "file_extension": ".py",
   "mimetype": "text/x-python",
   "name": "python",
   "nbconvert_exporter": "python",
   "pygments_lexer": "ipython3",
   "version": "3.8.8"
  }
 },
 "nbformat": 4,
 "nbformat_minor": 5
}
